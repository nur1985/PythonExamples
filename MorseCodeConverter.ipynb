{
 "cells": [
  {
   "cell_type": "code",
   "execution_count": 42,
   "metadata": {},
   "outputs": [
    {
     "name": "stdin",
     "output_type": "stream",
     "text": [
      "Enter english words (default is THANK YOU):  \n"
     ]
    },
    {
     "name": "stdout",
     "output_type": "stream",
     "text": [
      "- .... .- -. -.-  -.-- --- ..- \n"
     ]
    },
    {
     "name": "stdin",
     "output_type": "stream",
     "text": [
      "Enter Morse code (default is THANK YOU):  - .... .- -. -.-  -.-- --- ..-  ..-. --- .-.  ...- .. ... .. - .. -. --.  -- -.--  .-- . -... ... .. - .\n"
     ]
    },
    {
     "name": "stdout",
     "output_type": "stream",
     "text": [
      "THANK YOU FOR VISITING MY WEBSITE\n"
     ]
    }
   ],
   "source": [
    "# Author: Nuruzzaman\n",
    "# Date:   02/15/2019\n",
    "# Convert Morse code to english and vice versa. \n",
    "  \n",
    "# Dictionary of the morse code \n",
    "MORSE_CODE_DICT = { 'A':'.-', 'B':'-...', \n",
    "                    'C':'-.-.', 'D':'-..', 'E':'.', \n",
    "                    'F':'..-.', 'G':'--.', 'H':'....', \n",
    "                    'I':'..', 'J':'.---', 'K':'-.-', \n",
    "                    'L':'.-..', 'M':'--', 'N':'-.', \n",
    "                    'O':'---', 'P':'.--.', 'Q':'--.-', \n",
    "                    'R':'.-.', 'S':'...', 'T':'-', \n",
    "                    'U':'..-', 'V':'...-', 'W':'.--', \n",
    "                    'X':'-..-', 'Y':'-.--', 'Z':'--..', \n",
    "                    '1':'.----', '2':'..---', '3':'...--', \n",
    "                    '4':'....-', '5':'.....', '6':'-....', \n",
    "                    '7':'--...', '8':'---..', '9':'----.', \n",
    "                    '0':'-----', ', ':'--..--', '.':'.-.-.-', \n",
    "                    '?':'..--..', '/':'-..-.', '-':'-....-', \n",
    "                    '(':'-.--.', ')':'-.--.-'} \n",
    "  \n",
    "# Function to encrypt the string \n",
    "# from the morse code dictionary  \n",
    "def encrypt(message): \n",
    "    # stores the morse translated form of the english string\n",
    "    cipher = '' \n",
    "    for letter in message: \n",
    "        if letter != ' ': \n",
    "  \n",
    "            # Looks up the dictionary and adds the \n",
    "            # correspponding morse code \n",
    "            # along with a space to separate \n",
    "            # morse codes for different characters \n",
    "            cipher += MORSE_CODE_DICT[letter] + ' '\n",
    "        else: \n",
    "            # 1 space indicates different characters \n",
    "            # and 2 indicates different words \n",
    "            cipher += ' '\n",
    "  \n",
    "    return cipher \n",
    "  \n",
    "# Function to decrypt the string \n",
    "# from morse to english \n",
    "def decrypt(message): \n",
    "\n",
    "    # extra space added at the end to access the \n",
    "    # last morse code \n",
    "    message += ' '\n",
    "    \n",
    "    # translated to english form the morse string\n",
    "    decipher = '' \n",
    "    citext = '' \n",
    "    for letter in message: \n",
    "  \n",
    "        # checks for space \n",
    "        if (letter != ' '): \n",
    "  \n",
    "            # keeps count of the spaces between morse characters \n",
    "            i = 0\n",
    "  \n",
    "            # storing morse code of a single character \n",
    "            citext += letter \n",
    "  \n",
    "        # in case of space \n",
    "        else: \n",
    "            # if i = 1 that indicates a new character \n",
    "            i += 1\n",
    "  \n",
    "            # if i = 2 that indicates a new word \n",
    "            if i == 2 : \n",
    "                   # adding space to separate words \n",
    "                decipher += ' '\n",
    "            else:   \n",
    "                # accessing the keys using their values (reverse of encryption) \n",
    "                decipher += list(MORSE_CODE_DICT.keys())[list(MORSE_CODE_DICT \n",
    "                .values()).index(citext)] \n",
    "                citext = '' \n",
    "  \n",
    "    return decipher \n",
    "\n",
    "\n",
    "# Function to run the program \n",
    "def main(): \n",
    "    message = input(\"Enter english words (default is THANK YOU): \") or \"Thank you\"\n",
    "    result = encrypt(message.upper()) \n",
    "    print (result) \n",
    "  \n",
    "#    message = \"- .... .- -. -.-  -.-- --- ..-  ..-. --- .-.  ...- .. ... .. - .. -. --.  -- -.--  .-- . -... ... .. - .\"\n",
    "    message = input(\"Enter Morse code (default is THANK YOU): \") or \"- .... .- -. -.-  -.-- --- ..-\"\n",
    "    result = decrypt(message) \n",
    "    print (result) \n",
    "\n",
    "# Executes the main function \n",
    "if __name__ == '__main__': \n",
    "    main() "
   ]
  }
 ],
 "metadata": {
  "kernelspec": {
   "display_name": "Python 3",
   "language": "python",
   "name": "python3"
  },
  "language_info": {
   "codemirror_mode": {
    "name": "ipython",
    "version": 3
   },
   "file_extension": ".py",
   "mimetype": "text/x-python",
   "name": "python",
   "nbconvert_exporter": "python",
   "pygments_lexer": "ipython3",
   "version": "3.7.1"
  }
 },
 "nbformat": 4,
 "nbformat_minor": 2
}
