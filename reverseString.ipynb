{
 "cells": [
  {
   "cell_type": "code",
   "execution_count": null,
   "metadata": {},
   "outputs": [],
   "source": [
    "# Author: Nuruzzaman\n",
    "# Date:   02/13/2019\n",
    "# Reverse strings using different method \n",
    "\n",
    "input_str = '1234abcde ghdghs553'\n",
    "\n",
    "#----------------------------#\n",
    "def reverse_while(s):\n",
    "\n",
    "    rstr1 = ''\n",
    "    index = len(s)\n",
    "    while index > 0:\n",
    "        rstr1 += s[ index - 1 ]\n",
    "        index = index - 1\n",
    "    return rstr1\n",
    "print('Reverse String using while =',reverse_while(input_str))\n",
    "\n",
    "#----------------------------#\n",
    "# Among all the method slcing seems to take least amount of time \n",
    "# to complete the task. \n",
    "\n",
    "def reverse_slicing(s):\n",
    "    return s[::-1]\n",
    "\n",
    "if __name__ == \"__main__\":\n",
    "    print('Reverse String using slicing =', reverse_slicing(input_str))\n",
    "    \n",
    "#----------------------------#\n",
    "def reverse_for_loop(s):\n",
    "    s1 = ''\n",
    "    for c in s:\n",
    "        s1 = c + s1  # appending chars in reverse order\n",
    "    return s1\n",
    "\n",
    "if __name__ == \"__main__\":\n",
    "    print('Reverse String using for loop =', reverse_for_loop(input_str))\n",
    "    \n",
    "#----------------------------#\n",
    "def reverse_list(s):\n",
    "    temp_list = list(s)\n",
    "    temp_list.reverse()\n",
    "    return ''.join(temp_list)\n",
    "\n",
    "if __name__ == \"__main__\":\n",
    "    print('Reverse String using reverse list =', reverse_list(input_str))\n",
    "\n"
   ]
  }
 ],
 "metadata": {
  "kernelspec": {
   "display_name": "Python 3",
   "language": "python",
   "name": "python3"
  },
  "language_info": {
   "codemirror_mode": {
    "name": "ipython",
    "version": 3
   },
   "file_extension": ".py",
   "mimetype": "text/x-python",
   "name": "python",
   "nbconvert_exporter": "python",
   "pygments_lexer": "ipython3",
   "version": "3.7.1"
  }
 },
 "nbformat": 4,
 "nbformat_minor": 2
}
