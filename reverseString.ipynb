{
 "cells": [
  {
   "cell_type": "code",
   "execution_count": 18,
   "metadata": {},
   "outputs": [
    {
     "name": "stdout",
     "output_type": "stream",
     "text": [
      "Reverse String using while = 355shgdhg edcba4321\n",
      "Reverse String using slicing = 355shgdhg edcba4321\n",
      "Reverse String using for loop = 355shgdhg edcba4321\n",
      "Reverse String using reverse list = 355shgdhg edcba4321\n",
      "Palindrome check = True\n"
     ]
    }
   ],
   "source": [
    "# Author: Nuruzzaman\n",
    "# Date:   02/13/2019\n",
    "# Reverse strings using different method \n",
    "\n",
    "input_str = '1234abcde ghdghs553'\n",
    "\n",
    "#----------------------------#\n",
    "def reverse_while(str1):\n",
    "\n",
    "    rstr1 = ''\n",
    "    index = len(str1)\n",
    "    while index > 0:\n",
    "        rstr1 += str1[ index - 1 ]\n",
    "        index = index - 1\n",
    "    return rstr1\n",
    "print('Reverse String using while =',reverse_while(input_str))\n",
    "\n",
    "#----------------------------#\n",
    "# Among all the method slcing seems to take least amount of time \n",
    "# to complete the task. \n",
    "\n",
    "def reverse_slicing(s):\n",
    "    return s[::-1]\n",
    "\n",
    "if __name__ == \"__main__\":\n",
    "    print('Reverse String using slicing =', reverse_slicing(input_str))\n",
    "    \n",
    "#----------------------------#\n",
    "def reverse_for_loop(s):\n",
    "    s1 = ''\n",
    "    for c in s:\n",
    "        s1 = c + s1  # appending chars in reverse order\n",
    "    return s1\n",
    "\n",
    "if __name__ == \"__main__\":\n",
    "    print('Reverse String using for loop =', reverse_for_loop(input_str))\n",
    "    \n",
    "#----------------------------#\n",
    "def reverse_list(s):\n",
    "    temp_list = list(s)\n",
    "    temp_list.reverse()\n",
    "    return ''.join(temp_list)\n",
    "\n",
    "if __name__ == \"__main__\":\n",
    "    print('Reverse String using reverse list =', reverse_list(input_str))\n",
    "\n",
    "#----------------------------#  \n",
    "def palindrome(num):\n",
    "    return str(num) == str(num)[::-1]   \n",
    "\n",
    "if __name__ == \"__main__\":\n",
    "    print('Palindrome check =', palindrome('nun'))\n",
    "\n",
    "#----------------------------#\n",
    "\n"
   ]
  },
  {
   "cell_type": "code",
   "execution_count": null,
   "metadata": {},
   "outputs": [],
   "source": []
  },
  {
   "cell_type": "code",
   "execution_count": null,
   "metadata": {},
   "outputs": [],
   "source": []
  }
 ],
 "metadata": {
  "kernelspec": {
   "display_name": "Python 3",
   "language": "python",
   "name": "python3"
  },
  "language_info": {
   "codemirror_mode": {
    "name": "ipython",
    "version": 3
   },
   "file_extension": ".py",
   "mimetype": "text/x-python",
   "name": "python",
   "nbconvert_exporter": "python",
   "pygments_lexer": "ipython3",
   "version": "3.7.1"
  }
 },
 "nbformat": 4,
 "nbformat_minor": 2
}
