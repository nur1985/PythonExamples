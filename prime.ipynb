{
 "cells": [
  {
   "cell_type": "code",
   "execution_count": 11,
   "metadata": {},
   "outputs": [
    {
     "name": "stdin",
     "output_type": "stream",
     "text": [
      "Enter space seperated integer range (default 2 61):  5 45\n"
     ]
    },
    {
     "name": "stdout",
     "output_type": "stream",
     "text": [
      "Prime using list comprehension\t [5, 7, 11, 13, 17, 19, 23, 29, 31, 37, 41, 43]\n"
     ]
    }
   ],
   "source": [
    "# Author: Nuruzzaman\n",
    "# Date:   01/27/2019\n",
    "# Find prime number examples\n",
    "\n",
    "from math import sqrt, log\n",
    "import sys\n",
    "\n",
    "x, y = input(\"Enter space seperated integer range (default 2 61): \").split() or \"2 61\".split()\n",
    "\n",
    "#x = 12\n",
    "#y = 61\n",
    "\n",
    "print ('Prime using list comprehension\\t', [p for p in range(int(x), int(y)) if 0 not in [p%d for d in range(2,int(p/2+1))]])\n"
   ]
  }
 ],
 "metadata": {
  "kernelspec": {
   "display_name": "Python 3",
   "language": "python",
   "name": "python3"
  },
  "language_info": {
   "codemirror_mode": {
    "name": "ipython",
    "version": 3
   },
   "file_extension": ".py",
   "mimetype": "text/x-python",
   "name": "python",
   "nbconvert_exporter": "python",
   "pygments_lexer": "ipython3",
   "version": "3.7.1"
  }
 },
 "nbformat": 4,
 "nbformat_minor": 2
}
